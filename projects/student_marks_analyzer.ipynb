{
 "cells": [
  {
   "cell_type": "markdown",
   "id": "1e14e942",
   "metadata": {},
   "source": [
    "**Student Marks Analyzer**\n",
    "\n",
    "- Use NumPy to generate random marks for 100 students in 5 subjects.\n",
    "- Store the data in a Pandas DataFrame with columns like `Math`, `Science`, `English`…\n",
    "- Calculate average marks, highest score per subject, and rank students.\n",
    "- Plot: bar chart of average scores per subject, histogram of total marks.\n"
   ]
  },
  {
   "cell_type": "code",
   "execution_count": 1,
   "id": "73e994e7",
   "metadata": {},
   "outputs": [],
   "source": [
    "import numpy as np\n",
    "import pandas as pd\n",
    "import matplotlib.pyplot as plt"
   ]
  },
  {
   "cell_type": "code",
   "execution_count": 2,
   "id": "d7f28960",
   "metadata": {},
   "outputs": [],
   "source": [
    "N = 100\n",
    "subjects = {}\n",
    "\n",
    "for subject in [\"math\",\"science\",\"commerce\",\"bangla\",\"english\"]:\n",
    "    subjects[subject] = np.random.randint(low=0, high=100, size=N)\n",
    " \n",
    "df = pd.DataFrame(subjects)"
   ]
  },
  {
   "cell_type": "code",
   "execution_count": 3,
   "id": "01035154",
   "metadata": {},
   "outputs": [],
   "source": [
    "df['total'] = df.sum(axis=1)\n",
    "\n",
    "highest_scores = df.max()\n",
    "ranked = df.sort_values(by=\"total\",ascending=False)"
   ]
  },
  {
   "cell_type": "code",
   "execution_count": 4,
   "id": "1832ccfb",
   "metadata": {},
   "outputs": [
    {
     "data": {
      "text/html": [
       "<div>\n",
       "<style scoped>\n",
       "    .dataframe tbody tr th:only-of-type {\n",
       "        vertical-align: middle;\n",
       "    }\n",
       "\n",
       "    .dataframe tbody tr th {\n",
       "        vertical-align: top;\n",
       "    }\n",
       "\n",
       "    .dataframe thead th {\n",
       "        text-align: right;\n",
       "    }\n",
       "</style>\n",
       "<table border=\"1\" class=\"dataframe\">\n",
       "  <thead>\n",
       "    <tr style=\"text-align: right;\">\n",
       "      <th></th>\n",
       "      <th>math</th>\n",
       "      <th>science</th>\n",
       "      <th>commerce</th>\n",
       "      <th>bangla</th>\n",
       "      <th>english</th>\n",
       "      <th>total</th>\n",
       "    </tr>\n",
       "  </thead>\n",
       "  <tbody>\n",
       "    <tr>\n",
       "      <th>67</th>\n",
       "      <td>89</td>\n",
       "      <td>83</td>\n",
       "      <td>60</td>\n",
       "      <td>97</td>\n",
       "      <td>84</td>\n",
       "      <td>413</td>\n",
       "    </tr>\n",
       "    <tr>\n",
       "      <th>72</th>\n",
       "      <td>91</td>\n",
       "      <td>99</td>\n",
       "      <td>87</td>\n",
       "      <td>25</td>\n",
       "      <td>95</td>\n",
       "      <td>397</td>\n",
       "    </tr>\n",
       "    <tr>\n",
       "      <th>95</th>\n",
       "      <td>98</td>\n",
       "      <td>68</td>\n",
       "      <td>90</td>\n",
       "      <td>98</td>\n",
       "      <td>6</td>\n",
       "      <td>360</td>\n",
       "    </tr>\n",
       "    <tr>\n",
       "      <th>31</th>\n",
       "      <td>85</td>\n",
       "      <td>52</td>\n",
       "      <td>90</td>\n",
       "      <td>63</td>\n",
       "      <td>61</td>\n",
       "      <td>351</td>\n",
       "    </tr>\n",
       "    <tr>\n",
       "      <th>1</th>\n",
       "      <td>83</td>\n",
       "      <td>99</td>\n",
       "      <td>79</td>\n",
       "      <td>53</td>\n",
       "      <td>35</td>\n",
       "      <td>349</td>\n",
       "    </tr>\n",
       "    <tr>\n",
       "      <th>...</th>\n",
       "      <td>...</td>\n",
       "      <td>...</td>\n",
       "      <td>...</td>\n",
       "      <td>...</td>\n",
       "      <td>...</td>\n",
       "      <td>...</td>\n",
       "    </tr>\n",
       "    <tr>\n",
       "      <th>34</th>\n",
       "      <td>48</td>\n",
       "      <td>41</td>\n",
       "      <td>0</td>\n",
       "      <td>28</td>\n",
       "      <td>26</td>\n",
       "      <td>143</td>\n",
       "    </tr>\n",
       "    <tr>\n",
       "      <th>17</th>\n",
       "      <td>0</td>\n",
       "      <td>59</td>\n",
       "      <td>42</td>\n",
       "      <td>5</td>\n",
       "      <td>27</td>\n",
       "      <td>133</td>\n",
       "    </tr>\n",
       "    <tr>\n",
       "      <th>48</th>\n",
       "      <td>15</td>\n",
       "      <td>17</td>\n",
       "      <td>42</td>\n",
       "      <td>16</td>\n",
       "      <td>38</td>\n",
       "      <td>128</td>\n",
       "    </tr>\n",
       "    <tr>\n",
       "      <th>25</th>\n",
       "      <td>56</td>\n",
       "      <td>1</td>\n",
       "      <td>16</td>\n",
       "      <td>41</td>\n",
       "      <td>0</td>\n",
       "      <td>114</td>\n",
       "    </tr>\n",
       "    <tr>\n",
       "      <th>9</th>\n",
       "      <td>32</td>\n",
       "      <td>4</td>\n",
       "      <td>4</td>\n",
       "      <td>9</td>\n",
       "      <td>27</td>\n",
       "      <td>76</td>\n",
       "    </tr>\n",
       "  </tbody>\n",
       "</table>\n",
       "<p>100 rows × 6 columns</p>\n",
       "</div>"
      ],
      "text/plain": [
       "    math  science  commerce  bangla  english  total\n",
       "67    89       83        60      97       84    413\n",
       "72    91       99        87      25       95    397\n",
       "95    98       68        90      98        6    360\n",
       "31    85       52        90      63       61    351\n",
       "1     83       99        79      53       35    349\n",
       "..   ...      ...       ...     ...      ...    ...\n",
       "34    48       41         0      28       26    143\n",
       "17     0       59        42       5       27    133\n",
       "48    15       17        42      16       38    128\n",
       "25    56        1        16      41        0    114\n",
       "9     32        4         4       9       27     76\n",
       "\n",
       "[100 rows x 6 columns]"
      ]
     },
     "execution_count": 4,
     "metadata": {},
     "output_type": "execute_result"
    }
   ],
   "source": [
    "ranked"
   ]
  },
  {
   "cell_type": "code",
   "execution_count": 5,
   "id": "378cfe32",
   "metadata": {},
   "outputs": [
    {
     "data": {
      "image/png": "[encoded data removed]",
      "text/plain": [
       "<Figure size 500x300 with 1 Axes>"
      ]
     },
     "metadata": {},
     "output_type": "display_data"
    }
   ],
   "source": [
    "plt.figure(figsize=(5,3))\n",
    "avg = df.drop(columns=['total']).mean()\n",
    "plt.bar(avg.index,avg.values   ) \n",
    " \n",
    "plt.show()"
   ]
  },
  {
   "cell_type": "code",
   "execution_count": 6,
   "id": "87bfa717",
   "metadata": {},
   "outputs": [
    {
     "data": {
      "image/png": "[encoded data removed]",
      "text/plain": [
       "<Figure size 750x450 with 1 Axes>"
      ]
     },
     "metadata": {},
     "output_type": "display_data"
    }
   ],
   "source": [
    "plt.figure(figsize=(5,3),dpi=150) \n",
    "plt.hist(df[\"total\"], bins=10, edgecolor=\"black\", alpha=0.7)\n",
    "plt.show() \n"
   ]
  },
  {
   "cell_type": "code",
   "execution_count": null,
   "id": "2276fb9e",
   "metadata": {},
   "outputs": [],
   "source": []
  }
 ],
 "metadata": {
  "kernelspec": {
   "display_name": "venv",
   "language": "python",
   "name": "python3"
  },
  "language_info": {
   "codemirror_mode": {
    "name": "ipython",
    "version": 3
   },
   "file_extension": ".py",
   "mimetype": "text/x-python",
   "name": "python",
   "nbconvert_exporter": "python",
   "pygments_lexer": "ipython3",
   "version": "3.13.7"
  }
 },
 "nbformat": 4,
 "nbformat_minor": 5
}
