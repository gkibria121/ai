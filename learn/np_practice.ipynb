{
 "cells": [
  {
   "cell_type": "code",
   "execution_count": 2,
   "id": "c4c4a3f9-64d4-4d2f-a072-432678b41305",
   "metadata": {},
   "outputs": [],
   "source": [
    "import numpy as np"
   ]
  },
  {
   "cell_type": "code",
   "execution_count": 3,
   "id": "1878b52a-c789-4aa3-bf5c-e4e5b7fe597b",
   "metadata": {},
   "outputs": [],
   "source": [
    "arr_temp = np.arange(1,31)\n",
    "arr = arr_temp.reshape((6,5))"
   ]
  },
  {
   "cell_type": "code",
   "execution_count": 4,
   "id": "e7a3d4c4-ae36-4bf9-8eaa-8361e30dd67d",
   "metadata": {},
   "outputs": [
    {
     "name": "stdout",
     "output_type": "stream",
     "text": [
      "[[ 1  2  3  4  5]\n",
      " [ 6  7  8  9 10]\n",
      " [11 12 13 14 15]\n",
      " [16 17 18 19 20]\n",
      " [21 22 23 24 25]\n",
      " [26 27 28 29 30]]\n"
     ]
    }
   ],
   "source": [
    "print(arr)"
   ]
  },
  {
   "cell_type": "code",
   "execution_count": 5,
   "id": "92319919-c8f1-441d-a45b-6c5f09b888f8",
   "metadata": {},
   "outputs": [
    {
     "data": {
      "text/plain": [
       "array([[11, 12],\n",
       "       [16, 17]])"
      ]
     },
     "execution_count": 5,
     "metadata": {},
     "output_type": "execute_result"
    }
   ],
   "source": [
    "arr[ 2:4,0:2 ]"
   ]
  },
  {
   "cell_type": "code",
   "execution_count": 6,
   "id": "89d63d92-520c-4123-9d31-bda1609e9aba",
   "metadata": {},
   "outputs": [
    {
     "data": {
      "text/plain": [
       "array([[ 2.,  0.,  0.,  0.],\n",
       "       [ 0.,  8.,  0.,  0.],\n",
       "       [ 0.,  0., 14.,  0.],\n",
       "       [ 0.,  0.,  0., 20.]])"
      ]
     },
     "execution_count": 6,
     "metadata": {},
     "output_type": "execute_result"
    }
   ],
   "source": [
    "arr[ 0:4, 1:5:1 ]*np.identity(4)"
   ]
  },
  {
   "cell_type": "code",
   "execution_count": 7,
   "id": "e430ad30-9eb1-4443-bfd5-1831285a6d26",
   "metadata": {},
   "outputs": [
    {
     "data": {
      "text/plain": [
       "array([ 2,  8, 14, 20])"
      ]
     },
     "execution_count": 7,
     "metadata": {},
     "output_type": "execute_result"
    }
   ],
   "source": [
    "arr[ [0,1,2,3],[1,2,3,4] ] "
   ]
  },
  {
   "cell_type": "code",
   "execution_count": 8,
   "id": "368320b0-9707-4679-ac60-ffe1c4e3cd31",
   "metadata": {},
   "outputs": [
    {
     "data": {
      "text/plain": [
       "array([[ 4,  5],\n",
       "       [24, 25],\n",
       "       [29, 30]])"
      ]
     },
     "execution_count": 8,
     "metadata": {},
     "output_type": "execute_result"
    }
   ],
   "source": [
    "arr[ [0,4,5],3:5  ] "
   ]
  }
 ],
 "metadata": {
  "kernelspec": {
   "display_name": "venv",
   "language": "python",
   "name": "python3"
  },
  "language_info": {
   "codemirror_mode": {
    "name": "ipython",
    "version": 3
   },
   "file_extension": ".py",
   "mimetype": "text/x-python",
   "name": "python",
   "nbconvert_exporter": "python",
   "pygments_lexer": "ipython3",
   "version": "3.13.7"
  }
 },
 "nbformat": 4,
 "nbformat_minor": 5
}
