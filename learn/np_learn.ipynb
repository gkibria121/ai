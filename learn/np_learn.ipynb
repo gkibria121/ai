{
 "cells": [
  {
   "cell_type": "code",
   "execution_count": 2,
   "id": "d110918e-b494-4448-9f33-c0865f70f105",
   "metadata": {},
   "outputs": [],
   "source": [
    "import numpy as np"
   ]
  },
  {
   "cell_type": "code",
   "execution_count": 4,
   "id": "3a2d2819-0370-4f90-8bbd-7ecaf16c01cf",
   "metadata": {},
   "outputs": [],
   "source": [
    "a = np.zeros((2,2),dtype=\"int32\")"
   ]
  },
  {
   "cell_type": "code",
   "execution_count": 5,
   "id": "b1f410e4-8693-49bf-8a65-cbacdd4ce1b8",
   "metadata": {},
   "outputs": [
    {
     "data": {
      "text/plain": [
       "array([[0, 0],\n",
       "       [0, 0]], dtype=int32)"
      ]
     },
     "execution_count": 5,
     "metadata": {},
     "output_type": "execute_result"
    }
   ],
   "source": [
    "a"
   ]
  },
  {
   "cell_type": "code",
   "execution_count": 8,
   "id": "a4c4343e-7083-405f-9387-4be97f54126a",
   "metadata": {},
   "outputs": [
    {
     "data": {
      "text/plain": [
       "array([ 1,  2,  3,  4,  5,  6,  7,  8,  9, 10])"
      ]
     },
     "execution_count": 8,
     "metadata": {},
     "output_type": "execute_result"
    }
   ],
   "source": [
    "np.arange(1,11)"
   ]
  },
  {
   "cell_type": "code",
   "execution_count": 18,
   "id": "1022fd8d-9bf9-4afc-9d4b-77f1ea069943",
   "metadata": {},
   "outputs": [
    {
     "data": {
      "text/plain": [
       "array([[2, 6, 2],\n",
       "       [6, 8, 1],\n",
       "       [7, 2, 4]], dtype=int32)"
      ]
     },
     "execution_count": 18,
     "metadata": {},
     "output_type": "execute_result"
    }
   ],
   "source": [
    "np.random.randint(9,size=(3,3))"
   ]
  },
  {
   "cell_type": "code",
   "execution_count": 19,
   "id": "87d04a10-d176-4ade-9bb5-b31d0349255d",
   "metadata": {},
   "outputs": [
    {
     "data": {
      "text/plain": [
       "array([[1., 0., 0., 0.],\n",
       "       [0., 1., 0., 0.],\n",
       "       [0., 0., 1., 0.],\n",
       "       [0., 0., 0., 1.]])"
      ]
     },
     "execution_count": 19,
     "metadata": {},
     "output_type": "execute_result"
    }
   ],
   "source": [
    "np.identity(4)"
   ]
  },
  {
   "cell_type": "code",
   "execution_count": 24,
   "id": "1830afab-027f-45ed-8493-3d78f1b4fce7",
   "metadata": {},
   "outputs": [
    {
     "data": {
      "text/plain": [
       "array([ 3,  6,  9, 12, 15])"
      ]
     },
     "execution_count": 24,
     "metadata": {},
     "output_type": "execute_result"
    }
   ],
   "source": [
    "a = np.arange(1,6)\n",
    "a*3"
   ]
  },
  {
   "cell_type": "code",
   "execution_count": 28,
   "id": "4ed0e2f2-23c2-4ec6-a440-c34fd8141573",
   "metadata": {},
   "outputs": [],
   "source": [
    "a1 = np.array([1,2,3])\n",
    "a2 = np.array([4,5,6,])"
   ]
  },
  {
   "cell_type": "code",
   "execution_count": 29,
   "id": "f9579c50-5c20-4af1-8e7b-f3e6363a321f",
   "metadata": {},
   "outputs": [
    {
     "data": {
      "text/plain": [
       "array([5, 7, 9])"
      ]
     },
     "execution_count": 29,
     "metadata": {},
     "output_type": "execute_result"
    }
   ],
   "source": [
    "a1+a2"
   ]
  },
  {
   "cell_type": "code",
   "execution_count": 30,
   "id": "0609e54b-4db2-46cc-90ba-c0a6d618cbc3",
   "metadata": {},
   "outputs": [],
   "source": [
    "rand_3x3 = np.random.randint(100,size=(3,3))"
   ]
  },
  {
   "cell_type": "code",
   "execution_count": 31,
   "id": "5c2087cd-ec00-44e7-b8dc-d7cb9e332a20",
   "metadata": {},
   "outputs": [
    {
     "data": {
      "text/plain": [
       "array([[96, 88, 38],\n",
       "       [24, 91, 55],\n",
       "       [16, 18,  7]], dtype=int32)"
      ]
     },
     "execution_count": 31,
     "metadata": {},
     "output_type": "execute_result"
    }
   ],
   "source": [
    "rand_3x3"
   ]
  },
  {
   "cell_type": "code",
   "execution_count": 47,
   "id": "2d21b377-f785-495f-94fd-f7f7f8b05b8a",
   "metadata": {},
   "outputs": [
    {
     "data": {
      "text/plain": [
       "array([24, 91, 55], dtype=int32)"
      ]
     },
     "execution_count": 47,
     "metadata": {},
     "output_type": "execute_result"
    }
   ],
   "source": [
    "rand_3x3[ 1 ]"
   ]
  },
  {
   "cell_type": "code",
   "execution_count": 48,
   "id": "fd7a0f24-49d6-48c7-9cde-2853d727ab7d",
   "metadata": {},
   "outputs": [],
   "source": [
    "arr = np.arange(1,11)"
   ]
  },
  {
   "cell_type": "code",
   "execution_count": 49,
   "id": "e88d1e8f-06c4-447e-9d9e-0ed48882b0cd",
   "metadata": {},
   "outputs": [
    {
     "data": {
      "text/plain": [
       "array([ 1,  2,  3,  4,  5,  6,  7,  8,  9, 10])"
      ]
     },
     "execution_count": 49,
     "metadata": {},
     "output_type": "execute_result"
    }
   ],
   "source": [
    "arr"
   ]
  },
  {
   "cell_type": "code",
   "execution_count": 54,
   "id": "77ed69fc-f254-4a4f-acce-7cb0c552becd",
   "metadata": {},
   "outputs": [
    {
     "data": {
      "text/plain": [
       "array([ 2,  4,  6,  8, 10])"
      ]
     },
     "execution_count": 54,
     "metadata": {},
     "output_type": "execute_result"
    }
   ],
   "source": [
    "arr[arr%2 ==0]"
   ]
  },
  {
   "cell_type": "code",
   "execution_count": 67,
   "id": "110c337c-36b2-4908-aef4-ebc8b760c040",
   "metadata": {},
   "outputs": [
    {
     "name": "stdout",
     "output_type": "stream",
     "text": [
      "[[96 80 60 22 15]\n",
      " [16 81 10  6 49]\n",
      " [63 99 54 52 56]\n",
      " [74 32 71 60 66]\n",
      " [26 18 59  6 80]]\n"
     ]
    }
   ],
   "source": [
    "arr =np.random.randint(1,100,size=(5,5))\n",
    "print(arr)"
   ]
  },
  {
   "cell_type": "code",
   "execution_count": 68,
   "id": "20cbab1c-fd58-4036-b549-6b92dc1e1b1e",
   "metadata": {},
   "outputs": [
    {
     "name": "stdout",
     "output_type": "stream",
     "text": [
      "99\n",
      "6\n",
      "50.04\n"
     ]
    }
   ],
   "source": [
    "print(arr.max())\n",
    "print(arr.min())\n",
    "print(arr.mean())"
   ]
  },
  {
   "cell_type": "code",
   "execution_count": 70,
   "id": "e6a6934d-12c5-4b9c-b491-3ca5a37f4dd1",
   "metadata": {},
   "outputs": [
    {
     "data": {
      "text/plain": [
       "(12,)"
      ]
     },
     "execution_count": 70,
     "metadata": {},
     "output_type": "execute_result"
    }
   ],
   "source": [
    "arr = np.arange(1,13)\n",
    "arr.shape"
   ]
  },
  {
   "cell_type": "code",
   "execution_count": 74,
   "id": "802d3be8-ce92-463d-976f-c858ede0d146",
   "metadata": {},
   "outputs": [],
   "source": [
    "reshaped = arr.reshape((3,4))"
   ]
  },
  {
   "cell_type": "code",
   "execution_count": 83,
   "id": "50439695-493f-4f12-bde5-5cbe8d0309b9",
   "metadata": {},
   "outputs": [
    {
     "data": {
      "text/plain": [
       "array([ 1,  2,  3,  4,  5,  6,  7,  8,  9, 10, 11, 12])"
      ]
     },
     "execution_count": 83,
     "metadata": {},
     "output_type": "execute_result"
    }
   ],
   "source": [
    "reshaped.flatten()"
   ]
  },
  {
   "cell_type": "code",
   "execution_count": 84,
   "id": "1d72c3c8-7c0c-4db9-9633-c8924af8ad31",
   "metadata": {},
   "outputs": [],
   "source": [
    "arr = np.array([10,20,30,40,50])"
   ]
  },
  {
   "cell_type": "code",
   "execution_count": 85,
   "id": "02331809-af05-4b25-ad7c-14facfff49dd",
   "metadata": {},
   "outputs": [
    {
     "data": {
      "text/plain": [
       "array([30, 40, 50])"
      ]
     },
     "execution_count": 85,
     "metadata": {},
     "output_type": "execute_result"
    }
   ],
   "source": [
    "arr[arr>25]"
   ]
  },
  {
   "cell_type": "code",
   "execution_count": 86,
   "id": "1e8b38ef-ff94-4498-b4ae-3344f13e598d",
   "metadata": {},
   "outputs": [],
   "source": [
    "mat1 = np.random.randint(100,size=(3,3))\n",
    "mat2 = np.random.randint(100,size=(3,3))"
   ]
  },
  {
   "cell_type": "code",
   "execution_count": 92,
   "id": "d12bb496-7cb2-465a-af1c-08963b16fcc7",
   "metadata": {},
   "outputs": [
    {
     "data": {
      "text/plain": [
       "np.float64(-170776.00000000017)"
      ]
     },
     "execution_count": 92,
     "metadata": {},
     "output_type": "execute_result"
    }
   ],
   "source": [
    "np.linalg.det(mat1)\n"
   ]
  },
  {
   "cell_type": "code",
   "execution_count": 93,
   "id": "46c162cd-aade-40ac-820e-319c520a8e92",
   "metadata": {},
   "outputs": [],
   "source": [
    "mat1 = np.random.randint(100,size=(3,3))"
   ]
  },
  {
   "cell_type": "code",
   "execution_count": 95,
   "id": "31040d86-bb3a-4fab-8246-da955605fab0",
   "metadata": {},
   "outputs": [
    {
     "name": "stdout",
     "output_type": "stream",
     "text": [
      "[[82 20 26]\n",
      " [24 12 74]\n",
      " [10 77 44]]\n"
     ]
    },
    {
     "data": {
      "text/plain": [
       "array([[83, 22, 29],\n",
       "       [25, 14, 77],\n",
       "       [11, 79, 47]])"
      ]
     },
     "execution_count": 95,
     "metadata": {},
     "output_type": "execute_result"
    }
   ],
   "source": [
    "print(mat1)\n",
    "mat1 + [1,2,3]"
   ]
  },
  {
   "cell_type": "code",
   "execution_count": null,
   "id": "039bbd9b-97ea-4011-aedb-f3319f87ec4d",
   "metadata": {},
   "outputs": [],
   "source": []
  }
 ],
 "metadata": {
  "kernelspec": {
   "display_name": "Python 3 (ipykernel)",
   "language": "python",
   "name": "python3"
  },
  "language_info": {
   "codemirror_mode": {
    "name": "ipython",
    "version": 3
   },
   "file_extension": ".py",
   "mimetype": "text/x-python",
   "name": "python",
   "nbconvert_exporter": "python",
   "pygments_lexer": "ipython3",
   "version": "3.13.5"
  }
 },
 "nbformat": 4,
 "nbformat_minor": 5
}
